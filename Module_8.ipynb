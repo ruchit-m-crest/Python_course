{
 "cells": [
  {
   "cell_type": "code",
   "execution_count": 3,
   "id": "e4a663f1-c534-49e0-9843-6dfa05cdf3bc",
   "metadata": {},
   "outputs": [
    {
     "data": {
      "text/plain": [
       "set"
      ]
     },
     "execution_count": 3,
     "metadata": {},
     "output_type": "execute_result"
    }
   ],
   "source": [
    "mylist = [1,2,3]\n",
    "myset = set()\n",
    "type(myset)\n"
   ]
  },
  {
   "cell_type": "code",
   "execution_count": 4,
   "id": "b21e1bfc-9848-4266-886f-886d5e07d78d",
   "metadata": {},
   "outputs": [
    {
     "data": {
      "text/plain": [
       "list"
      ]
     },
     "execution_count": 4,
     "metadata": {},
     "output_type": "execute_result"
    }
   ],
   "source": [
    "type(mylist)"
   ]
  },
  {
   "cell_type": "code",
   "execution_count": 7,
   "id": "fb1760bd-f2de-481d-b8fb-78871b490b91",
   "metadata": {},
   "outputs": [],
   "source": [
    "class Sample():\n",
    "    pass"
   ]
  },
  {
   "cell_type": "code",
   "execution_count": 9,
   "id": "826f1f0b-375f-46c7-9dc0-f7cb32291c9f",
   "metadata": {},
   "outputs": [],
   "source": [
    "my_sample = Sample()"
   ]
  },
  {
   "cell_type": "code",
   "execution_count": 10,
   "id": "16ba12b7-8b4a-4585-8e79-842d7f9d9238",
   "metadata": {},
   "outputs": [
    {
     "data": {
      "text/plain": [
       "__main__.Sample"
      ]
     },
     "execution_count": 10,
     "metadata": {},
     "output_type": "execute_result"
    }
   ],
   "source": [
    "type(my_sample)"
   ]
  },
  {
   "cell_type": "code",
   "execution_count": 19,
   "id": "1d87d81c-96ff-4683-b3a5-0efaf32ff78c",
   "metadata": {},
   "outputs": [],
   "source": [
    "class Dog():\n",
    "\n",
    "    def __init__(self,mybreed,name,spots):\n",
    "\n",
    "        self.breed = mybreed\n",
    "        self.name = name\n",
    "        self.spots = spots"
   ]
  },
  {
   "cell_type": "code",
   "execution_count": 21,
   "id": "cee34f77-1b6d-4cc1-9d51-932f2b3ea769",
   "metadata": {},
   "outputs": [],
   "source": [
    "my_dog = Dog(mybreed='Labrador',name='leo',spots=False)"
   ]
  },
  {
   "cell_type": "code",
   "execution_count": 16,
   "id": "47310b60-5d40-4b46-a22b-27855c2a2350",
   "metadata": {},
   "outputs": [
    {
     "data": {
      "text/plain": [
       "__main__.Dog"
      ]
     },
     "execution_count": 16,
     "metadata": {},
     "output_type": "execute_result"
    }
   ],
   "source": [
    "type(my_dog)"
   ]
  },
  {
   "cell_type": "code",
   "execution_count": 22,
   "id": "1be093cf-e95c-40d7-8037-c38bc0897e65",
   "metadata": {},
   "outputs": [
    {
     "data": {
      "text/plain": [
       "'Labrador'"
      ]
     },
     "execution_count": 22,
     "metadata": {},
     "output_type": "execute_result"
    }
   ],
   "source": [
    "my_dog.breed"
   ]
  },
  {
   "cell_type": "code",
   "execution_count": 50,
   "id": "2bc41cd5-3b02-4171-a182-bc66885a9d41",
   "metadata": {},
   "outputs": [],
   "source": [
    "class Dog():\n",
    "\n",
    "    #class object attribute\n",
    "    #same for the any instance of the class\n",
    "    species = 'mammal'\n",
    "\n",
    "    def __init__(self,mybreed,name):\n",
    "        #Atrribute\n",
    "        self.breed = mybreed\n",
    "        self.name = name\n",
    "        \n",
    "    #Method(function that live inside class)\n",
    "    def bark(self,location):\n",
    "        print(f'Woof! My name is {self.name} and I am from {location}.')"
   ]
  },
  {
   "cell_type": "code",
   "execution_count": 51,
   "id": "f7e31aab-690f-4372-b576-ec022dd9f853",
   "metadata": {},
   "outputs": [],
   "source": [
    "my_dog = Dog('Lab','Leo')"
   ]
  },
  {
   "cell_type": "code",
   "execution_count": 52,
   "id": "4ce1435b-6051-4fa7-ac9d-5b214bbea244",
   "metadata": {},
   "outputs": [
    {
     "data": {
      "text/plain": [
       "'Leo'"
      ]
     },
     "execution_count": 52,
     "metadata": {},
     "output_type": "execute_result"
    }
   ],
   "source": [
    "my_dog.name"
   ]
  },
  {
   "cell_type": "code",
   "execution_count": 53,
   "id": "d167d090-0c42-4e45-bf65-146ea8fa9499",
   "metadata": {},
   "outputs": [
    {
     "name": "stdout",
     "output_type": "stream",
     "text": [
      "Woof! My name is Leo and I am from Dhoraji.\n"
     ]
    }
   ],
   "source": [
    "my_dog.bark('Dhoraji')"
   ]
  },
  {
   "cell_type": "code",
   "execution_count": 83,
   "id": "d254194a-5a2a-45af-8fbb-d97fdd9e6b11",
   "metadata": {},
   "outputs": [],
   "source": [
    "class Circle():\n",
    "\n",
    "    #class object attribute\n",
    "    pi = 3.14\n",
    "\n",
    "    def __init__(self,radius=1):\n",
    "        self.radius = radius\n",
    "        self.area = radius * radius * Circle.pi\n",
    "\n",
    "    #method(function inside class)\n",
    "    def get_circumference(self):\n",
    "        return self.radius * Circle.pi * 2"
   ]
  },
  {
   "cell_type": "code",
   "execution_count": 99,
   "id": "b0a77c13-0108-455c-944c-0bb718ed846e",
   "metadata": {},
   "outputs": [],
   "source": [
    "my_circle = Circle(30)"
   ]
  },
  {
   "cell_type": "code",
   "execution_count": 100,
   "id": "76114c00-8e9c-4ee0-ab93-872225329f4f",
   "metadata": {},
   "outputs": [
    {
     "data": {
      "text/plain": [
       "3.14"
      ]
     },
     "execution_count": 100,
     "metadata": {},
     "output_type": "execute_result"
    }
   ],
   "source": [
    "my_circle.pi"
   ]
  },
  {
   "cell_type": "code",
   "execution_count": 101,
   "id": "a672f365-30fe-4285-a0e2-734b1fc05488",
   "metadata": {},
   "outputs": [
    {
     "data": {
      "text/plain": [
       "30"
      ]
     },
     "execution_count": 101,
     "metadata": {},
     "output_type": "execute_result"
    }
   ],
   "source": [
    "my_circle.radius"
   ]
  },
  {
   "cell_type": "code",
   "execution_count": 102,
   "id": "bcf66a9e-5b59-4c78-8400-8984adc9c9b0",
   "metadata": {},
   "outputs": [
    {
     "data": {
      "text/plain": [
       "188.4"
      ]
     },
     "execution_count": 102,
     "metadata": {},
     "output_type": "execute_result"
    }
   ],
   "source": [
    "my_circle.get_circumference()"
   ]
  },
  {
   "cell_type": "code",
   "execution_count": 103,
   "id": "000847d8-32ab-485a-8204-0eaacb7d6ceb",
   "metadata": {},
   "outputs": [
    {
     "data": {
      "text/plain": [
       "2826.0"
      ]
     },
     "execution_count": 103,
     "metadata": {},
     "output_type": "execute_result"
    }
   ],
   "source": [
    "my_circle.area"
   ]
  },
  {
   "cell_type": "markdown",
   "id": "698eb7ed-763e-417e-ac89-80ea9158ada0",
   "metadata": {},
   "source": [
    "## INHERTANCE"
   ]
  },
  {
   "cell_type": "code",
   "execution_count": 114,
   "id": "793840b7-fe97-4943-a9ad-8e381e4d2f65",
   "metadata": {},
   "outputs": [],
   "source": [
    "class Animal():\n",
    "\n",
    "    def __init__(self):\n",
    "        print('Animal Created')\n",
    "\n",
    "    def who_am_i(self):\n",
    "        print('I am animal')\n",
    "\n",
    "    def eat(self):\n",
    "        print('I am eating')"
   ]
  },
  {
   "cell_type": "code",
   "execution_count": 122,
   "id": "95dfbbb9-0ea5-492a-b264-04461515f76b",
   "metadata": {},
   "outputs": [],
   "source": [
    "class Dog(Animal):\n",
    "\n",
    "    def __init__(self):\n",
    "        Animal.__init__(self)\n",
    "        print('Dog created')\n",
    "        Animal.eat(self)\n",
    "\n",
    "    def who_am_i(self):\n",
    "        print('I am a dog')\n",
    "\n",
    "    def bark(self):\n",
    "        print('Woof!')\n",
    "         "
   ]
  },
  {
   "cell_type": "code",
   "execution_count": 123,
   "id": "190f08fb-ec47-4b9b-be7a-8cb981281d07",
   "metadata": {},
   "outputs": [
    {
     "name": "stdout",
     "output_type": "stream",
     "text": [
      "Animal Created\n",
      "Dog created\n",
      "I am eating\n"
     ]
    }
   ],
   "source": [
    "my_dog = Dog()"
   ]
  },
  {
   "cell_type": "code",
   "execution_count": 124,
   "id": "9ea841cc-fdc4-475d-b3bd-5ca379f686b3",
   "metadata": {},
   "outputs": [
    {
     "name": "stdout",
     "output_type": "stream",
     "text": [
      "I am a dog\n"
     ]
    }
   ],
   "source": [
    "my_dog.who_am_i()"
   ]
  },
  {
   "cell_type": "markdown",
   "id": "5b911119-4050-4b5d-81aa-c859daeda1e9",
   "metadata": {},
   "source": [
    "## POLYMORPHISM"
   ]
  },
  {
   "cell_type": "code",
   "execution_count": 139,
   "id": "574fd9e2-2c2b-451e-8a78-f5690ed772f6",
   "metadata": {},
   "outputs": [],
   "source": [
    "class Dog():\n",
    "\n",
    "    def  __init__(self,name):\n",
    "        self.name = name\n",
    "\n",
    "    def speak(self):\n",
    "        return self.name + \" says woff!\""
   ]
  },
  {
   "cell_type": "code",
   "execution_count": 140,
   "id": "65f6214e-d500-4005-892e-ffe2025c21fd",
   "metadata": {},
   "outputs": [],
   "source": [
    "class Cat():\n",
    "\n",
    "    def  __init__(self,name):\n",
    "        self.name = name\n",
    "\n",
    "    def speak(self):\n",
    "        return self.name + \" says Meow!\""
   ]
  },
  {
   "cell_type": "code",
   "execution_count": 141,
   "id": "b94da28d-6ee6-4722-a45f-b4ace2db4b7f",
   "metadata": {},
   "outputs": [],
   "source": [
    "leo = Dog('Leo')\n",
    "niko = Cat('Niko')"
   ]
  },
  {
   "cell_type": "code",
   "execution_count": 142,
   "id": "badbd220-a15b-47e5-97fb-8b44c1339fe8",
   "metadata": {},
   "outputs": [
    {
     "name": "stdout",
     "output_type": "stream",
     "text": [
      "Leo says woff!\n"
     ]
    }
   ],
   "source": [
    "print(leo.speak())"
   ]
  },
  {
   "cell_type": "code",
   "execution_count": 143,
   "id": "17a06151-bebd-42a6-aed0-e476d4b0f01a",
   "metadata": {},
   "outputs": [
    {
     "name": "stdout",
     "output_type": "stream",
     "text": [
      "Niko says Meow!\n"
     ]
    }
   ],
   "source": [
    "print(niko.speak())"
   ]
  },
  {
   "cell_type": "code",
   "execution_count": 149,
   "id": "96912eb0-8e01-47ee-9650-ddb2d404c516",
   "metadata": {},
   "outputs": [
    {
     "name": "stdout",
     "output_type": "stream",
     "text": [
      "<class '__main__.Dog'>\n",
      "Leo says woff!\n",
      "<class '__main__.Cat'>\n",
      "Niko says Meow!\n"
     ]
    }
   ],
   "source": [
    "for pet in [leo,niko]:\n",
    "\n",
    "    print(type(pet))\n",
    "    print(pet.speak())"
   ]
  },
  {
   "cell_type": "code",
   "execution_count": 150,
   "id": "8bcaf91e-ffdf-429b-9b50-2d1b137acaf6",
   "metadata": {},
   "outputs": [],
   "source": [
    "def pet_speak(pet): \n",
    "    print(pet.speak())"
   ]
  },
  {
   "cell_type": "code",
   "execution_count": 151,
   "id": "9437f1cf-9b21-4b44-8252-25582278c541",
   "metadata": {},
   "outputs": [
    {
     "name": "stdout",
     "output_type": "stream",
     "text": [
      "Leo says woff!\n"
     ]
    }
   ],
   "source": [
    "pet_speak(leo)"
   ]
  },
  {
   "cell_type": "code",
   "execution_count": 154,
   "id": "2d51e8af-bc0b-4d8c-b42f-e46384ab6758",
   "metadata": {},
   "outputs": [],
   "source": [
    "mylist = [1,2,3,4]"
   ]
  },
  {
   "cell_type": "code",
   "execution_count": 155,
   "id": "866beeca-74ac-49d5-b01d-d25c25056b1c",
   "metadata": {},
   "outputs": [
    {
     "data": {
      "text/plain": [
       "4"
      ]
     },
     "execution_count": 155,
     "metadata": {},
     "output_type": "execute_result"
    }
   ],
   "source": [
    "len(mylist)"
   ]
  },
  {
   "cell_type": "code",
   "execution_count": 156,
   "id": "13452782-9326-4648-b1a8-22e2ff04baa6",
   "metadata": {},
   "outputs": [],
   "source": [
    " class Sample():\n",
    "     pass"
   ]
  },
  {
   "cell_type": "code",
   "execution_count": 158,
   "id": "e535b0d8-d2d3-4cd5-b601-4637783b97fe",
   "metadata": {},
   "outputs": [],
   "source": [
    "mysample = Sample()"
   ]
  },
  {
   "cell_type": "code",
   "execution_count": 161,
   "id": "2cf26e73-3953-4770-bb66-de33ab2f96e6",
   "metadata": {},
   "outputs": [
    {
     "name": "stdout",
     "output_type": "stream",
     "text": [
      "[1, 2, 3, 4]\n"
     ]
    }
   ],
   "source": [
    "print(mylist)"
   ]
  },
  {
   "cell_type": "code",
   "execution_count": 169,
   "id": "aef002e9-9f45-4c25-8b74-db5bf53b4ab1",
   "metadata": {},
   "outputs": [],
   "source": [
    "class Book:\n",
    "    def __init__(self, title, author, pages):\n",
    "        print(\"A book is created\")\n",
    "        self.title = title\n",
    "        self.author = author\n",
    "        self.pages = pages\n",
    "\n",
    "    def __str__(self):\n",
    "        return f'Title:{self.title} by:{self.author}'\n",
    "\n",
    "    def __len__(self):\n",
    "        return self.pages\n",
    "\n",
    "    def __del__(self):\n",
    "        print('Book has been deleted')"
   ]
  },
  {
   "cell_type": "code",
   "execution_count": 174,
   "id": "3e4f7890-c171-49e1-a68a-6ca35182ae76",
   "metadata": {},
   "outputs": [
    {
     "name": "stdout",
     "output_type": "stream",
     "text": [
      "A book is created\n",
      "Book has been deleted\n",
      "Title:python rocks! by:Jose\n",
      "250\n",
      "Book has been deleted\n"
     ]
    }
   ],
   "source": [
    "b = Book(\"python rocks!\", \"Jose\", 250)\n",
    "\n",
    "#Special method\n",
    "print(b)\n",
    "print(len(b))\n",
    "del b"
   ]
  },
  {
   "cell_type": "code",
   "execution_count": 175,
   "id": "a63f1cb1-20bb-4b06-a4a8-f1d9a3c858ef",
   "metadata": {},
   "outputs": [
    {
     "ename": "NameError",
     "evalue": "name 'b' is not defined",
     "output_type": "error",
     "traceback": [
      "\u001b[1;31m---------------------------------------------------------------------------\u001b[0m",
      "\u001b[1;31mNameError\u001b[0m                                 Traceback (most recent call last)",
      "Cell \u001b[1;32mIn[175], line 1\u001b[0m\n\u001b[1;32m----> 1\u001b[0m \u001b[38;5;28mprint\u001b[39m(b)\n",
      "\u001b[1;31mNameError\u001b[0m: name 'b' is not defined"
     ]
    }
   ],
   "source": [
    "print(b)"
   ]
  }
 ],
 "metadata": {
  "kernelspec": {
   "display_name": "Python 3 (ipykernel)",
   "language": "python",
   "name": "python3"
  },
  "language_info": {
   "codemirror_mode": {
    "name": "ipython",
    "version": 3
   },
   "file_extension": ".py",
   "mimetype": "text/x-python",
   "name": "python",
   "nbconvert_exporter": "python",
   "pygments_lexer": "ipython3",
   "version": "3.13.5"
  }
 },
 "nbformat": 4,
 "nbformat_minor": 5
}
