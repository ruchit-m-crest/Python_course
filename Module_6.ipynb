{
 "cells": [
  {
   "cell_type": "code",
   "execution_count": 6,
   "id": "52e9a5f1-78ff-40ab-ab8d-d4f8d3cb8816",
   "metadata": {},
   "outputs": [],
   "source": [
    "lst = [1,2,3,4,5,6]"
   ]
  },
  {
   "cell_type": "code",
   "execution_count": 7,
   "id": "11bb0ab9-4648-4f94-a882-802d9fec0e9b",
   "metadata": {},
   "outputs": [
    {
     "data": {
      "text/plain": [
       "[1, 2, 3, 4, 5, 6, 6]"
      ]
     },
     "execution_count": 7,
     "metadata": {},
     "output_type": "execute_result"
    }
   ],
   "source": [
    "lst.append(6)\n",
    "lst"
   ]
  },
  {
   "cell_type": "code",
   "execution_count": 8,
   "id": "8a7b5381-d775-4fb0-96f6-1a60951e19a7",
   "metadata": {},
   "outputs": [
    {
     "data": {
      "text/plain": [
       "2"
      ]
     },
     "execution_count": 8,
     "metadata": {},
     "output_type": "execute_result"
    }
   ],
   "source": [
    "lst.count(6)"
   ]
  },
  {
   "cell_type": "code",
   "execution_count": 13,
   "id": "3b54bf6f-5282-4215-840c-2b610e653b17",
   "metadata": {},
   "outputs": [],
   "source": [
    "def say_hello():\n",
    "    print('HEllO')"
   ]
  },
  {
   "cell_type": "code",
   "execution_count": 14,
   "id": "864f9e2d-6c88-4cfa-8dcb-1fa180d01f8a",
   "metadata": {},
   "outputs": [
    {
     "name": "stdout",
     "output_type": "stream",
     "text": [
      "HEllO\n"
     ]
    }
   ],
   "source": [
    "say_hello()"
   ]
  },
  {
   "cell_type": "code",
   "execution_count": 18,
   "id": "e13a06fb-95e4-4e2f-a20c-e49c2311fbd6",
   "metadata": {},
   "outputs": [
    {
     "name": "stdout",
     "output_type": "stream",
     "text": [
      "Hello Ruchit\n"
     ]
    }
   ],
   "source": [
    "def greeting(name):\n",
    "    print(f'Hello {name}')\n",
    "\n",
    "greeting('Ruchit')"
   ]
  },
  {
   "cell_type": "code",
   "execution_count": 21,
   "id": "8d8d6a3b-c3a7-4d13-859b-2c28ad564df3",
   "metadata": {},
   "outputs": [
    {
     "data": {
      "text/plain": [
       "'onetwo'"
      ]
     },
     "execution_count": 21,
     "metadata": {},
     "output_type": "execute_result"
    }
   ],
   "source": [
    "def sum(num1, num2):\n",
    "    return(num1 + num2)\n",
    "sum(2,3)\n"
   ]
  },
  {
   "cell_type": "code",
   "execution_count": 22,
   "id": "80d6369d-43ec-4d23-8f77-0b08023c9184",
   "metadata": {},
   "outputs": [
    {
     "data": {
      "text/plain": [
       "'onetwo'"
      ]
     },
     "execution_count": 22,
     "metadata": {},
     "output_type": "execute_result"
    }
   ],
   "source": [
    "sum('one', 'two')"
   ]
  },
  {
   "cell_type": "code",
   "execution_count": 2,
   "id": "159f4aae-fdb5-4e08-ad83-959b5d525b85",
   "metadata": {},
   "outputs": [
    {
     "name": "stdout",
     "output_type": "stream",
     "text": [
      "Hello Ruchit\n"
     ]
    }
   ],
   "source": [
    "def say(name):\n",
    "    print(f'Hello {name}')\n",
    "\n",
    "say('Ruchit')"
   ]
  },
  {
   "cell_type": "code",
   "execution_count": 5,
   "id": "fb1c5325-7dcc-4245-b5d9-6916a8c6f41c",
   "metadata": {},
   "outputs": [
    {
     "name": "stdout",
     "output_type": "stream",
     "text": [
      "7\n"
     ]
    }
   ],
   "source": [
    "def add(num1, num2):\n",
    "    return num1+num2\n",
    "\n",
    "sum = add(2,5)\n",
    "print(sum)"
   ]
  },
  {
   "cell_type": "code",
   "execution_count": 6,
   "id": "fdf20ad6-229a-4d9c-b3d9-e65b58dbf0aa",
   "metadata": {},
   "outputs": [],
   "source": [
    "def chack_even(num):\n",
    "    result = num % 2 ==0\n",
    "    return result"
   ]
  },
  {
   "cell_type": "code",
   "execution_count": 7,
   "id": "5715a52f-cd0e-4fdd-9cb6-c79dbe2ae84e",
   "metadata": {},
   "outputs": [
    {
     "data": {
      "text/plain": [
       "[2, 4, 6, 8]"
      ]
     },
     "execution_count": 7,
     "metadata": {},
     "output_type": "execute_result"
    }
   ],
   "source": [
    "def chack_even(list1):\n",
    "    my_list = []\n",
    "\n",
    "    for num in list1:\n",
    "       if num % 2 == 0:\n",
    "           my_list.append(num)\n",
    "\n",
    "       else:\n",
    "           pass\n",
    "           \n",
    "    return my_list\n",
    "\n",
    "chack_even([1,2,3,4,5,6,7,8,9])"
   ]
  },
  {
   "cell_type": "code",
   "execution_count": 9,
   "id": "7fa208f3-6611-4a8f-80a0-fd4374e30b50",
   "metadata": {},
   "outputs": [],
   "source": [
    "stock_price = [('aapl',200),('goog',400),('msft',100)]"
   ]
  },
  {
   "cell_type": "code",
   "execution_count": 11,
   "id": "b660a613-df31-4e50-af72-3681487064ca",
   "metadata": {},
   "outputs": [
    {
     "name": "stdout",
     "output_type": "stream",
     "text": [
      "200\n",
      "400\n",
      "100\n"
     ]
    }
   ],
   "source": [
    "for k,v in stock_price:\n",
    "    print(v)"
   ]
  },
  {
   "cell_type": "code",
   "execution_count": 54,
   "id": "205f0977-002c-4a8b-aa23-ff3420aadc2f",
   "metadata": {},
   "outputs": [
    {
     "data": {
      "text/plain": [
       "('Cassie', 800)"
      ]
     },
     "execution_count": 54,
     "metadata": {},
     "output_type": "execute_result"
    }
   ],
   "source": [
    "work_hours = [('Abby',100),('Billy',400),('Cassie',800)]\n",
    "\n",
    "def check_work(work_hours):\n",
    "    max = 0\n",
    "    emp_of_month = ''\n",
    "\n",
    "    for emp,hrs in work_hours:\n",
    "        if hrs>max:\n",
    "            max = hrs\n",
    "            emp_of_month = emp\n",
    "\n",
    "        else:\n",
    "            pass\n",
    "\n",
    "    return (emp_of_month,max)\n",
    "\n",
    "check_work(work_hours)"
   ]
  },
  {
   "cell_type": "code",
   "execution_count": 55,
   "id": "d4f48b0a-16df-48fd-b290-71be29590b3d",
   "metadata": {},
   "outputs": [
    {
     "name": "stdout",
     "output_type": "stream",
     "text": [
      "[2, 6, 4, 3, 1, 5]\n"
     ]
    }
   ],
   "source": [
    "from random import shuffle\n",
    "\n",
    "example = [1,2,3,4,5,6]\n",
    "\n",
    "shuffle(example)\n",
    "\n",
    "print(example)"
   ]
  },
  {
   "cell_type": "code",
   "execution_count": 32,
   "id": "3bf361a0-edd6-4b45-866a-0275c9054e8a",
   "metadata": {},
   "outputs": [
    {
     "name": "stdin",
     "output_type": "stream",
     "text": [
      "Pick a number: 0, 1, or 2:   0\n"
     ]
    },
    {
     "name": "stdout",
     "output_type": "stream",
     "text": [
      "Wrong! Better luck next time\n",
      "[' ', ' ', 'O']\n"
     ]
    }
   ],
   "source": [
    "from random import shuffle\n",
    "\n",
    "# Initial List\n",
    "mylist = [' ','O',' ']\n",
    "\n",
    "def shuffle_list(mylist):\n",
    "    # Take in list, and returned shuffle versioned\n",
    "    shuffle(mylist)\n",
    "    return(mylist)\n",
    "    \n",
    "# Shuffle It\n",
    "mixedup_list = shuffle_list(mylist)\n",
    "\n",
    "def player_guess():\n",
    "    \n",
    "    guess = ''\n",
    "    while guess not in ['0','1','2']:\n",
    "        # Recall input() returns a string\n",
    "        guess = input(\"Pick a number: 0, 1, or 2:  \")\n",
    "    return int(guess)    \n",
    "\n",
    "def check_guess(mylist,guess):\n",
    "    if mylist[guess] == 'O':\n",
    "        print('Correct Guess!')\n",
    "    else:\n",
    "        print('Wrong! Better luck next time')\n",
    "        print(mylist)\n",
    "        \n",
    "# Get User's Guess\n",
    "guess = player_guess()\n",
    "\n",
    "# Check User's Guess\n",
    "#------------------------\n",
    "# Notice how this function takes in the input \n",
    "# based on the output of other functions!\n",
    "check_guess(mixedup_list,guess)"
   ]
  },
  {
   "cell_type": "code",
   "execution_count": 33,
   "id": "36cc3511-fec3-4602-a15b-9fa853ca9d11",
   "metadata": {},
   "outputs": [
    {
     "name": "stdout",
     "output_type": "stream",
     "text": [
      "[' ', ' ', 'O']\n"
     ]
    }
   ],
   "source": [
    "print(mixedup_list)"
   ]
  },
  {
   "cell_type": "code",
   "execution_count": null,
   "id": "ba3e72d7-d6a1-40fc-b097-ffffbbd40515",
   "metadata": {},
   "outputs": [],
   "source": []
  },
  {
   "cell_type": "code",
   "execution_count": null,
   "id": "596b8914-6bea-457b-bae0-776165951856",
   "metadata": {},
   "outputs": [],
   "source": []
  },
  {
   "cell_type": "code",
   "execution_count": null,
   "id": "c922e728-2a20-41f9-9d4f-ec5b988be81c",
   "metadata": {},
   "outputs": [],
   "source": []
  },
  {
   "cell_type": "code",
   "execution_count": null,
   "id": "3de952f2-9d22-4bc8-9a95-8cecdce1bffd",
   "metadata": {},
   "outputs": [],
   "source": []
  },
  {
   "cell_type": "code",
   "execution_count": null,
   "id": "861ec2a8-7db4-4d0e-a9c3-0f6329609cde",
   "metadata": {},
   "outputs": [],
   "source": []
  }
 ],
 "metadata": {
  "kernelspec": {
   "display_name": "Python 3 (ipykernel)",
   "language": "python",
   "name": "python3"
  },
  "language_info": {
   "codemirror_mode": {
    "name": "ipython",
    "version": 3
   },
   "file_extension": ".py",
   "mimetype": "text/x-python",
   "name": "python",
   "nbconvert_exporter": "python",
   "pygments_lexer": "ipython3",
   "version": "3.13.5"
  }
 },
 "nbformat": 4,
 "nbformat_minor": 5
}
